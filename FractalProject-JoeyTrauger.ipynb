{
 "cells": [
  {
   "cell_type": "code",
   "execution_count": 1,
   "metadata": {},
   "outputs": [],
   "source": [
    "import numpy as np"
   ]
  },
  {
   "cell_type": "markdown",
   "metadata": {},
   "source": [
    "\n",
    "\n",
    "## My Fractal!"
   ]
  },
  {
   "cell_type": "code",
   "execution_count": 2,
   "metadata": {},
   "outputs": [
    {
     "name": "stdout",
     "output_type": "stream",
     "text": [
      "Creating Plot....\n"
     ]
    },
    {
     "data": {
      "image/png": "[encoded data removed]",
      "text/plain": [
       "<Figure size 864x144 with 1 Axes>"
      ]
     },
     "metadata": {
      "needs_background": "light"
     },
     "output_type": "display_data"
    }
   ],
   "source": [
    "import random\n",
    "import matplotlib.pyplot as plt\n",
    "import pandas as pd\n",
    "\n",
    "true_vals = [0,1,2,3]\n",
    "colors = {0:'red',1:'orange',2:'blue',3:'purple'}\n",
    "\n",
    "#red and orange will be used for minima, blue and purple for maxima\n",
    "\n",
    "parray = np.arange(-10,10,0.01) #practice array\n",
    "#print (parray)\n",
    "#was printing it to test that the array was valid\n",
    "\n",
    "soln = []\n",
    "\n",
    "#for k, ii in enumerate(parray):\n",
    "#    soln.append([parray[k],colors[random.randint(0,3)]]) ##testing one color at a time\n",
    "\n",
    "#above was another way to do it\n",
    "for ii in range(len(parray)):\n",
    "    soln.append([parray[ii],colors[random.randint(0,3)]]) ##testing one color at a time\n",
    "\n",
    "plt.rcParams['figure.figsize'] = [12, 2]\n",
    "print('Creating Plot....')\n",
    "for item in soln:\n",
    "    plt.vlines([item[0]],-.1,.1,color=item[1])"
   ]
  },
  {
   "cell_type": "markdown",
   "metadata": {},
   "source": [
    "### Commentary\n",
    "\n",
    "Okay, this is cool but it isn't a fractal, I just gave numbers in a manually made array random colors. Worth noting the array should have a step of at most 0.01 as anything above that creates whitespace, but that will be more evident if colors were not randomized so even if that step is too high, I'll find out later. Now I have to:\n",
    "\n",
    "- Use bisection method\n",
    "- Set aside arrays based on changing mins and maxs (this was outlined in a past notebook)\n",
    "- Print those array, NOT the root we find"
   ]
  },
  {
   "cell_type": "code",
   "execution_count": 3,
   "metadata": {},
   "outputs": [
    {
     "name": "stdout",
     "output_type": "stream",
     "text": [
      "0.8414709848078965 -0.09070257317431829\n",
      "Number of iterations required:  28\n",
      "Iteration count:    28\n",
      "Root approximation: 1.9345632120966911\n",
      "Error:              7.450580596923828e-09\n",
      "Creating Plot....\n"
     ]
    },
    {
     "data": {
      "image/png": "[encoded data removed]",
      "text/plain": [
       "<Figure size 864x144 with 1 Axes>"
      ]
     },
     "metadata": {
      "needs_background": "light"
     },
     "output_type": "display_data"
    }
   ],
   "source": [
    "true_vals = [0,1,2,3]\n",
    "colors = {0:'red',1:'orange',2:'blue',3:'purple'}\n",
    "\n",
    "def f(x):\n",
    "    return 1-x+np.sin(x) #this is eqn for problem 11 in bisection chapter\n",
    "print(f(1), f(2))\n",
    "\n",
    "a=1 #graphing it shows there is root between 1 and 3\n",
    "b=3\n",
    "mn=1 #these set height/range of graph\n",
    "mx=2\n",
    "ep=np.float_power(10, -8)\n",
    "\n",
    "soln = [] # instigate empty array to fill later\n",
    "\n",
    "x=np.arange(0,3,.01)  \n",
    "#plt.plot(x, f(x), 'r')\n",
    "#plt.ylim(-3,3)\n",
    "#plt.axhline(0)\n",
    "#plt.axvline(mn)  #dont wanna graph the original function, just the fractal.\n",
    "#plt.axvline(mx)  #uncommenting all this here reveals our graph and how i pick max and min\n",
    "#plt.show() \n",
    "\n",
    "#all above simply graphs our function\n",
    "\n",
    "fa=f(a)\n",
    "fb=f(b)\n",
    "\n",
    "if fa==0:\n",
    "        print(\"Error: a is a root\")\n",
    "if fb==0:\n",
    "    print(\"Error: b is a root\")\n",
    "if fa*fb>0:\n",
    "    print(\"Error: no root between a and b\")\n",
    "    \n",
    "if fa*fb<0:\n",
    "    n=np.log((b-a)/ep)/np.log(2)\n",
    "    N=np.int(np.ceil(n))\n",
    "    print(\"Number of iterations required: \", N)\n",
    "    \n",
    "# above section counts number of iterations for error, which I only do to prevent infinitely running code\n",
    "    \n",
    "for i in range(N):\n",
    "    c=(a+b)/2\n",
    "    err=b-c\n",
    "    if err > ep:\n",
    "        fc=f(c)\n",
    "        if fc==0:\n",
    "            print(c, \"is a root of the function within\")\n",
    "            print(i+1)\n",
    "            break\n",
    "        elif np.sign(fc)*np.sign(fb)<0: #moves minimum up from a to c\n",
    "            \n",
    "            changingarray = np.arange(a,c,0.01) #array that i use to populate changes in soln\n",
    "            for ii in range(len(changingarray)):\n",
    "                soln.append([changingarray[ii],colors[0]]) ##everything to left of root should be red\n",
    "            \n",
    "            a=c\n",
    "            fa=f(a)\n",
    "        else: #moves maximum down from c to b\n",
    "            \n",
    "            changingarray = np.arange(c,b,0.01) #array that i use to populate changes in soln\n",
    "            for ii in range(len(changingarray)):\n",
    "                soln.append([changingarray[ii],colors[3]]) ##everything to the right of the root should be purple\n",
    "            \n",
    "            b=c\n",
    "            fb=f(b)\n",
    "    else:\n",
    "        print(\"Iteration count:   \", i+1)\n",
    "        print(\"Root approximation:\", c)\n",
    "        print(\"Error:             \", b-c)\n",
    "        break\n",
    "        \n",
    "plt.rcParams['figure.figsize'] = [12, 2]\n",
    "print('Creating Plot....')\n",
    "for item in soln:\n",
    "    plt.vlines([item[0]],-.1,.1,color=item[1])"
   ]
  },
  {
   "cell_type": "markdown",
   "metadata": {},
   "source": [
    "### Commentary\n",
    "\n",
    "Woah, I had a couple problems I was stuck on with the code, but I went on a walk and had an epiphany! I swapped my b and c in the else portion of bisection, because naturally b comes before c but not with the code, and now it is graphing properly. At this point, I have a new goal:\n",
    "\n",
    "- Include two booleans that track if the minimum was just changed or the maximum was just changed\n",
    "    - Implement it into the method"
   ]
  },
  {
   "cell_type": "code",
   "execution_count": 4,
   "metadata": {},
   "outputs": [
    {
     "name": "stdout",
     "output_type": "stream",
     "text": [
      "Iteration count:    28\n",
      "Root approximation: 1.9345632120966911\n",
      "Error:              7.450580596923828e-09\n",
      "\n",
      "Orange represents the change in the minimum when the maximum was just changed, or the first time the minimum is changed.\n",
      "Red represents the change in the minimum when the minimum was just changed, aka any consecutive times minimum changes.\n",
      "Purple represents the change in the maximum when the minimum was just changed, or the first time the maximum is changed\n",
      "Blue represents the change in the maximum when the maximum was just changed, aka any consecutive times maximum changes.\n",
      "\n",
      "Creating Plot....\n"
     ]
    },
    {
     "data": {
      "image/png": "[encoded data removed]",
      "text/plain": [
       "<Figure size 1296x216 with 1 Axes>"
      ]
     },
     "metadata": {
      "needs_background": "light"
     },
     "output_type": "display_data"
    }
   ],
   "source": [
    "true_vals = [0,1,2,3]\n",
    "colors = {0:'red',1:'orange',2:'blue',3:'purple'}\n",
    "\n",
    "def f(x):\n",
    "    return 1-x+np.sin(x) #this is eqn for problem 11 in bisection chapter\n",
    "#print(f(1), f(3))\n",
    "\n",
    "a=1 #graphing it shows there is root between 1 and 3\n",
    "b=3\n",
    "#mn=1 #these set height/range of graph\n",
    "#mx=3\n",
    "ep=np.float_power(10, -8)\n",
    "\n",
    "soln = [] # instigate empty array to fill later\n",
    "\n",
    "x=np.arange(0,3,.01)  \n",
    "#plt.plot(x, f(x), 'r')\n",
    "#plt.ylim(-3,3)\n",
    "#plt.axhline(0)\n",
    "#plt.axvline(mn)  #dont wanna graph the original function, just the fractal.\n",
    "#plt.axvline(mx)  #uncommenting all this here reveals our graph and how i pick max and min\n",
    "#plt.show() \n",
    "\n",
    "#all above simply graphs our function\n",
    "\n",
    "fa=f(a)\n",
    "fb=f(b)\n",
    "\n",
    "if fa==0:\n",
    "        print(\"Error: a is a root\")\n",
    "if fb==0:\n",
    "    print(\"Error: b is a root\")\n",
    "if fa*fb>0:\n",
    "    print(\"Error: no root between a and b\")\n",
    "    \n",
    "if fa*fb<0:\n",
    "    n=np.log((b-a)/ep)/np.log(2)\n",
    "    N=np.int(np.ceil(n))\n",
    "#    print(\"Number of iterations required: \", N)\n",
    "    \n",
    "# above section counts number of iterations for error, which I only do to prevent infinitely running code\n",
    "    \n",
    "###################### Having booleans that track if min or max was just changed #################\n",
    "justMin = False\n",
    "justMax = False\n",
    "###################### Start as false because nothing was just changed at first iteration ########\n",
    "    \n",
    "    \n",
    "for i in range(N):\n",
    "    c=(a+b)/2\n",
    "    err=b-c\n",
    "    if err > ep:\n",
    "        fc=f(c)\n",
    "        if fc==0:\n",
    "            print(c, \"is a root of the function within\")\n",
    "            print(i+1)\n",
    "            break\n",
    "        elif np.sign(fc)*np.sign(fb)<0: #moves minimum up from a to c\n",
    "            \n",
    "            if justMin:            \n",
    "                changingarray = np.arange(a,c,0.001) #array that i use to populate changes in soln\n",
    "                for ii in range(len(changingarray)):\n",
    "                    soln.append([changingarray[ii],colors[0]]) \n",
    "                    \n",
    "            elif (justMax):            \n",
    "                changingarray = np.arange(a,c,0.001) #array that i use to populate changes in soln\n",
    "                for ii in range(len(changingarray)):\n",
    "                    soln.append([changingarray[ii],colors[1]]) \n",
    "                    \n",
    "            \n",
    "            justMin = True\n",
    "            justMax = False\n",
    "            a=c\n",
    "            fa=f(a)\n",
    "        else: #moves maximum down from c to b\n",
    "            \n",
    "            if justMin:\n",
    "                changingarray = np.arange(c,b,0.001) #array that i use to populate changes in soln\n",
    "                for ii in range(len(changingarray)):\n",
    "                    soln.append([changingarray[ii],colors[2]]) \n",
    "                    \n",
    "            else:\n",
    "                changingarray = np.arange(c,b,0.001) #array that i use to populate changes in soln\n",
    "                for ii in range(len(changingarray)):\n",
    "                    soln.append([changingarray[ii],colors[3]]) \n",
    "            \n",
    "            justMax = True\n",
    "            justMin = False\n",
    "            b=c\n",
    "            fb=f(b)\n",
    "    else:\n",
    "        print(\"Iteration count:   \", i+1)\n",
    "        print(\"Root approximation:\", c)\n",
    "        print(\"Error:             \", b-c)\n",
    "        break\n",
    "        \n",
    "plt.rcParams['figure.figsize'] = [18, 3]\n",
    "print('\\nOrange represents the change in the minimum when the maximum was just changed, or the first time the minimum is changed.')\n",
    "print('Red represents the change in the minimum when the minimum was just changed, aka any consecutive times minimum changes.')\n",
    "print('Purple represents the change in the maximum when the minimum was just changed, or the first time the maximum is changed')\n",
    "print('Blue represents the change in the maximum when the maximum was just changed, aka any consecutive times maximum changes.')\n",
    "print('\\nCreating Plot....')\n",
    "\n",
    "for item in soln:\n",
    "    plt.vlines([item[0]],-.1,.1,color=item[1])"
   ]
  },
  {
   "cell_type": "markdown",
   "metadata": {},
   "source": [
    "### Conclusion\n",
    "\n",
    "My fractal is alive! After weeks of numerical applications I have finalized my fractal. It is certainly interesting, as the large purple implies that the maximum was lowered multiple times in a row most of the time, as it only altered the maximum after the minimum was altered once. I am sure that zooming in and iterating more would reveal more purple near the root. My only plans from here on out are to test it on other equations and clean it up with comments."
   ]
  },
  {
   "cell_type": "code",
   "execution_count": null,
   "metadata": {},
   "outputs": [],
   "source": []
  }
 ],
 "metadata": {
  "kernelspec": {
   "display_name": "Python 3",
   "language": "python",
   "name": "python3"
  },
  "language_info": {
   "codemirror_mode": {
    "name": "ipython",
    "version": 3
   },
   "file_extension": ".py",
   "mimetype": "text/x-python",
   "name": "python",
   "nbconvert_exporter": "python",
   "pygments_lexer": "ipython3",
   "version": "3.8.3"
  }
 },
 "nbformat": 4,
 "nbformat_minor": 2
}
